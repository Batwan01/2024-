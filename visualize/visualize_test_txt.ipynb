{
 "cells": [
  {
   "cell_type": "code",
   "execution_count": null,
   "metadata": {},
   "outputs": [],
   "source": [
    "import os\n",
    "import cv2\n",
    "import matplotlib.pyplot as plt"
   ]
  },
  {
   "cell_type": "code",
   "execution_count": null,
   "metadata": {},
   "outputs": [],
   "source": [
    "# config\n",
    "data_root = '/hdd1/lim_data/tld_db/test/images'  # 이미지가 저장된 루트 경로\n",
    "prediction_root = '/path/to/predictions'  # 예측 txt 파일이 저장된 경로\n",
    "class_names = { 0: \"veh_go\", 1: \"veh_goLeft\", 2: \"veh_noSign\", 3: \"veh_stop\", 4: \"veh_stopLeft\", \n",
    "               5: \"vef_stopWarning\", 6: \"veh_warning\", 7: \"ped_go\", 8: \"ped_noSign\", 9: \"ped_stop\", \n",
    "               10: \"bus_go\", 11: \"bus_noSign\", 12: \"bus_stop\", 13: \"bus_warning\"\n",
    "               }  # 클래스 이름 사전"
   ]
  },
  {
   "cell_type": "code",
   "execution_count": null,
   "metadata": {},
   "outputs": [],
   "source": [
    "# function \n",
    "# YOLO 형식의 txt 파일 읽기 함수\n",
    "def read_prediction_file(file_path):\n",
    "    predictions = []\n",
    "    with open(file_path, 'r') as f:\n",
    "        for line in f.readlines():\n",
    "            elements = line.strip().split()\n",
    "            class_id = int(elements[0])\n",
    "            x_center, y_center, width, height, score = map(float, elements[1:])\n",
    "            predictions.append((class_id, x_center, y_center, width, height, score))\n",
    "    return predictions\n",
    "\n",
    "# 예측 데이터 시각화 함수\n",
    "def visualize_predictions(image_path, predictions, class_filter=None, score_min=0.0, score_max=1.0):\n",
    "    image = cv2.imread(image_path)\n",
    "    image = cv2.cvtColor(image, cv2.COLOR_BGR2RGB)\n",
    "    h, w, _ = image.shape\n",
    "    \n",
    "    plt.figure(figsize=(10, 10))\n",
    "    plt.imshow(image)\n",
    "    plt.axis('off')\n",
    "    \n",
    "    for class_id, x_center, y_center, width, height, score in predictions:\n",
    "        if class_filter is not None and class_id != class_filter:\n",
    "            continue\n",
    "        if not (score_min <= score < score_max):\n",
    "            continue\n",
    "\n",
    "        # YOLO 형식을 이미지 좌표로 변환\n",
    "        x1 = int((x_center - width / 2) * w)\n",
    "        y1 = int((y_center - height / 2) * h)\n",
    "        x2 = int((x_center + width / 2) * w)\n",
    "        y2 = int((y_center + height / 2) * h)\n",
    "\n",
    "        # 박스와 텍스트 추가\n",
    "        color = (255, 0, 0)  # 빨간색 박스\n",
    "        label = f\"{class_names[class_id]}: {score:.2f}\"\n",
    "        cv2.rectangle(image, (x1, y1), (x2, y2), color, 2)\n",
    "        cv2.putText(image, label, (x1, y1 - 10), cv2.FONT_HERSHEY_SIMPLEX, 0.5, color, 2)\n",
    "\n",
    "    plt.imshow(image)\n",
    "    plt.show()\n",
    "\n",
    "# 클래스별, 점수별로 시각화\n",
    "for class_id in class_names:\n",
    "    for score_min in [0.0, 0.2, 0.4, 0.6, 0.8]:\n",
    "        score_max = score_min + 0.2\n",
    "        print(f\"Class: {class_names[class_id]}, Score Range: {score_min} - {score_max}\")\n",
    "\n",
    "        # 예측 파일 반복\n",
    "        for prediction_file in os.listdir(prediction_root):\n",
    "            if prediction_file.endswith('.txt'):\n",
    "                image_name = prediction_file.replace('.txt', '.jpg')\n",
    "                image_path = os.path.join(data_root, image_name)\n",
    "                prediction_path = os.path.join(prediction_root, prediction_file)\n",
    "                \n",
    "                predictions = read_prediction_file(prediction_path)\n",
    "                visualize_predictions(image_path, predictions, class_filter=class_id, score_min=score_min, score_max=score_max)"
   ]
  }
 ],
 "metadata": {
  "kernelspec": {
   "display_name": "chrp",
   "language": "python",
   "name": "python3"
  },
  "language_info": {
   "name": "python",
   "version": "3.8.19"
  }
 },
 "nbformat": 4,
 "nbformat_minor": 2
}
